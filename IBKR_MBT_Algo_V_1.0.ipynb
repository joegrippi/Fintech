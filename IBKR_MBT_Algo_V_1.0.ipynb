{
 "cells": [
  {
   "cell_type": "markdown",
   "id": "58bad404",
   "metadata": {},
   "source": [
    "# Interactive Brokers Micro Bitcoin Futures Algo V1"
   ]
  },
  {
   "cell_type": "code",
   "execution_count": null,
   "id": "38cec82b",
   "metadata": {},
   "outputs": [],
   "source": [
    "# IBKR_MBT_Algo_V_1.0\n",
    "'''This strategy will trade when MBT hits its 10 Day Moving Average and Close if the trade turns\n",
    "against the position taker by $400. This is a work in progress.'''\n",
    "### Import Libraries\n",
    "import math\n",
    "import pandas as pd\n",
    "import numpy as np\n",
    "import requests as r\n",
    "import yfinance as yf\n",
    "from datetime import datetime, timedelta\n",
    "datetime.now()"
   ]
  },
  {
   "cell_type": "code",
   "execution_count": null,
   "id": "6682d65d",
   "metadata": {},
   "outputs": [],
   "source": [
    "### must be connected to interactive brokers\n",
    "from ib_insync import *\n",
    "util.startLoop() #Use when using jupyter notebooks\n",
    "ib = IB()\n",
    "ib.connect('127.0.0.1', 4001, clientId=17) # ibgateway\n",
    "ib.sleep(2)"
   ]
  },
  {
   "cell_type": "code",
   "execution_count": null,
   "id": "b6f645ee",
   "metadata": {},
   "outputs": [],
   "source": [
    "# Qualify Continual Contract for historical prices\n",
    "con_c = Contract()\n",
    "con_c.symbol = \"MBT\"\n",
    "con_c.secType = \"CONTFUT\"\n",
    "con_c.exchange = \"CME\"\n",
    "ib.qualifyContracts(con_c)\n",
    "con_c_ticker = ib.reqMktData(con_c,'',False, False)\n",
    "con_c_ticker"
   ]
  },
  {
   "cell_type": "code",
   "execution_count": null,
   "id": "b8624582",
   "metadata": {},
   "outputs": [],
   "source": [
    "# Qualify Contract to trade\n",
    "con = Contract()\n",
    "con.symbol = \"MBT\"\n",
    "con.secType = \"FUT\"\n",
    "con.exchange = \"CME\"\n",
    "con.currency = \"USD\"\n",
    "con.lastTradeDateOrContractMonth = \"202408\"\n",
    "ib.qualifyContracts(con)"
   ]
  },
  {
   "cell_type": "code",
   "execution_count": null,
   "id": "20834b0a",
   "metadata": {},
   "outputs": [],
   "source": [
    "contract = con_c\n",
    "# Please note that MBT Has been trading since 2022 providing only 3 years of data\n",
    "bars = ib.reqHistoricalData(contract, endDateTime='',durationStr='5 y',\n",
    "                            barSizeSetting='1 day', whatToShow='MIDPOINT',\n",
    "                            useRTH=True, formatDate=1)\n",
    "bars = pd.DataFrame(bars)\n",
    "bars.set_index('date', inplace=True)\n",
    "bars.tail()"
   ]
  },
  {
   "cell_type": "code",
   "execution_count": null,
   "id": "3a8cca97",
   "metadata": {},
   "outputs": [],
   "source": [
    "# gather historical data\n",
    "bars_5yr_high=bars['high'][-1260:-1].max()\n",
    "bars_5yr_low=bars['low'][-1260:-1].min()\n",
    "bars_6mo_high=bars['high'][-126:-1].max()\n",
    "bars_6mo_low=bars['low'][-126:-1].min()\n",
    "bars_1yr_high=bars['high'][-252:-1].max()\n",
    "bars_1yr_low=bars['low'][-252:-1].min()\n",
    "bars_18mo_high=bars['high'][-378:-1].max()\n",
    "bars_18mo_low=bars['low'][-378:-1].min()\n",
    "bars_24mo_high=bars['high'][-504:-1].max()\n",
    "bars_24mo_low=bars['low'][-504:-1].min()\n",
    "bars_36mo_high=bars['high'][-756:-1].max()\n",
    "bars_36mo_low=bars['low'][-756:-1].min()\n",
    "bars_48mo_high=bars['high'][-1008:-1].max()\n",
    "bars_48mo_low=bars['low'][-1008:-1].min()\n",
    "bars_h_l=pd.DataFrame({'1 Yr': [bars_1yr_high, bars_1yr_low],'18 Mo':[bars_18mo_high, bars_18mo_low],\n",
    "                      '2 Yr':[bars_24mo_high, bars_24mo_low],'3 Yr': [bars_36mo_high, bars_36mo_low],\n",
    "                      '4 Yr':[bars_48mo_high, bars_48mo_low],'5 Yr':[bars_5yr_high,bars_5yr_low]})\n",
    "bars_h_l.rename(index={0: 'high', 1:'low'},inplace=True)\n",
    "display(bars_h_l)"
   ]
  },
  {
   "cell_type": "code",
   "execution_count": null,
   "id": "ec98424e",
   "metadata": {},
   "outputs": [],
   "source": [
    "# gather several moving average time fromes\n",
    "bars_ma=pd.DataFrame(bars['close'])\n",
    "bars_ma['sma5']=bars_ma.close.rolling(5).mean()\n",
    "bars_ma['sma10']=bars_ma.close.rolling(10).mean()\n",
    "bars_ma['sma20']=bars_ma.close.rolling(20).mean()\n",
    "bars_ma.dropna(inplace=True)\n",
    "bars_ma=bars_ma.round(2)\n",
    "display(bars_ma['sma5'].iloc[-1], bars_ma['sma10'].iloc[-1],bars_ma['sma20'].iloc[-1])\n",
    "bars_ma.tail()"
   ]
  },
  {
   "cell_type": "code",
   "execution_count": null,
   "id": "9bf1a8ea",
   "metadata": {},
   "outputs": [],
   "source": [
    "### bitcoin offer price must be in 5 and 10's\n",
    "def rtn(n):\n",
    "    return round(n / 10)* 10\n",
    "offer = rtn(bars_ma['sma10'].iloc[-1])\n",
    "offer"
   ]
  },
  {
   "cell_type": "code",
   "execution_count": null,
   "id": "5d54d02b",
   "metadata": {},
   "outputs": [],
   "source": [
    "### Calculate risk\n",
    "btc_risk = (bars_ma['sma10'].iloc[-1]-bars_ma['sma20'].iloc[-1])*.1\n",
    "btc_risk"
   ]
  },
  {
   "cell_type": "code",
   "execution_count": null,
   "id": "394c04fa",
   "metadata": {},
   "outputs": [],
   "source": [
    "#BTC Buy\n",
    "con_buy=LimitOrder(action='BUY', totalQuantity=1, lmtPrice=offer, outsideRth=True, tif='GTC')\n",
    "con_buy_priceCondition = PriceCondition(conId=con.conId,exch='CME', isMore=False, price=offer)\n",
    "con_buy.conditions.append(con_buy_priceCondition)\n",
    "con_buy"
   ]
  },
  {
   "cell_type": "code",
   "execution_count": null,
   "id": "6aa632a4",
   "metadata": {},
   "outputs": [],
   "source": [
    "#BTC Sell\n",
    "con_sell=LimitOrder(action='SELL', totalQuantity=1, lmtPrice=offer-4000, outsideRth=True, tif='GTC')\n",
    "con_sell_priceCondition = PriceCondition(conId=con.conId, exch='CME', isMore=False, price=offer-4000)\n",
    "con_sell.conditions.append(con_sell_priceCondition)\n",
    "con_sell"
   ]
  },
  {
   "cell_type": "code",
   "execution_count": null,
   "id": "6a9ff242",
   "metadata": {},
   "outputs": [],
   "source": [
    "# place orders\n",
    "con_buy_order=ib.placeOrder(con, con_buy)\n",
    "con_sell_order=ib.placeOrder(con, con_sell)"
   ]
  },
  {
   "cell_type": "code",
   "execution_count": null,
   "id": "2277b68f",
   "metadata": {},
   "outputs": [],
   "source": [
    "# check order status\n",
    "con_buy_order.orderStatus, con_sell_order.orderStatus"
   ]
  },
  {
   "cell_type": "code",
   "execution_count": null,
   "id": "9efeb7b9",
   "metadata": {},
   "outputs": [],
   "source": [
    "# check current positions\n",
    "ib.positions()"
   ]
  },
  {
   "cell_type": "code",
   "execution_count": null,
   "id": "b26c71da",
   "metadata": {},
   "outputs": [],
   "source": [
    "# Check open orders\n",
    "ib.openOrders()"
   ]
  },
  {
   "cell_type": "code",
   "execution_count": null,
   "id": "edb7566a",
   "metadata": {},
   "outputs": [],
   "source": [
    "# cancel all orders\n",
    "for order in ib.openOrders():\n",
    "    ib.cancelOrder(order)"
   ]
  },
  {
   "cell_type": "code",
   "execution_count": null,
   "id": "12bf352b",
   "metadata": {},
   "outputs": [],
   "source": []
  }
 ],
 "metadata": {
  "kernelspec": {
   "display_name": "Python 3 (ipykernel)",
   "language": "python",
   "name": "python3"
  },
  "language_info": {
   "codemirror_mode": {
    "name": "ipython",
    "version": 3
   },
   "file_extension": ".py",
   "mimetype": "text/x-python",
   "name": "python",
   "nbconvert_exporter": "python",
   "pygments_lexer": "ipython3",
   "version": "3.11.5"
  }
 },
 "nbformat": 4,
 "nbformat_minor": 5
}
