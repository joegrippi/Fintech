{
 "cells": [
  {
   "cell_type": "markdown",
   "id": "698d553a",
   "metadata": {},
   "source": [
    "# ETF Market Maker using ib_insync from Interactive Brokers"
   ]
  },
  {
   "cell_type": "code",
   "execution_count": null,
   "id": "af6d4f48",
   "metadata": {},
   "outputs": [],
   "source": [
    "from datetime import datetime\n",
    "import pandas as pd\n",
    "from ib_insync import *\n",
    "util.startLoop() #Use when using jupyter notebooks\n",
    "ib = IB()\n",
    "datetime.now()"
   ]
  },
  {
   "cell_type": "code",
   "execution_count": null,
   "id": "0cfa9786",
   "metadata": {},
   "outputs": [],
   "source": [
    "ib.connect('127.0.0.1', 4001, clientId=17) # ibgateway"
   ]
  },
  {
   "cell_type": "code",
   "execution_count": null,
   "id": "4996e274",
   "metadata": {},
   "outputs": [],
   "source": [
    "ib.isConnected()"
   ]
  },
  {
   "cell_type": "code",
   "execution_count": null,
   "id": "12f18cff",
   "metadata": {},
   "outputs": [],
   "source": [
    "# etf specs\n",
    "etf = Stock(symbol ='USO', exchange = 'SMART', currency = 'USD')\n",
    "ib.qualifyContracts(etf)"
   ]
  },
  {
   "cell_type": "code",
   "execution_count": null,
   "id": "8dbc36df",
   "metadata": {},
   "outputs": [],
   "source": [
    "# etf_ticker = ib.reqMktData(etf,'',False, False)\n",
    "ib.sleep(2)\n",
    "# etf_ticker.last, etf_ticker.time"
   ]
  },
  {
   "cell_type": "code",
   "execution_count": null,
   "id": "894d2b2c",
   "metadata": {},
   "outputs": [],
   "source": [
    "# order parameters\n",
    "long_order_1 = LimitOrder(action='BUY', totalQuantity=200, lmtPrice=76.65, outsideRth=True)\n",
    "# long_order_2 = LimitOrder(action='BUY', totalQuantity=200, lmtPrice=77.27, outsideRth=True)\n",
    "# close_order_1 = LimitOrder(action='SELL', totalQuantity=200, lmtPrice=78.75, outsideRth=True)\n",
    "# close_order_2 = LimitOrder(action='SELL', totalQuantity=200, lmtPrice=82.75, outsideRth=True)\n",
    "# short_order = LimitOrder(action='SELL', totalQuantity=1, lmtPrice=77.00, outsideRth=True) \n",
    "# close_order #, buy_order,# short_order"
   ]
  },
  {
   "cell_type": "code",
   "execution_count": null,
   "id": "343ecd22",
   "metadata": {},
   "outputs": [],
   "source": [
    "long_priceCondition_1 = PriceCondition(conId=etf.conId, exch='SMART', isMore=False, price=77.00)\n",
    "# long_priceCondition_2 = PriceCondition(conId=etf.conId, exch='SMART', isMore=True, price=77.24)\n",
    "# close_priceCondition_1 = PriceCondition(conId=etf.conId, exch='SMART', isMore=False, price=78.76)\n",
    "# close_priceCondition_2 = PriceCondition(conId=etf.conId, exch='SMART', isMore=True, price=82.92)\n",
    "# close_priceCondition = PriceCondition(conId=etf.conId, exch='SMART', isMore=False, price=74.75)\n",
    "# sell_priceCondition = PriceCondition(conId=etf.conId, exch='SMART', isMore=False, price=73.75)"
   ]
  },
  {
   "cell_type": "code",
   "execution_count": null,
   "id": "ea78e758",
   "metadata": {},
   "outputs": [],
   "source": [
    "long_order_1.conditions.append(long_priceCondition_1)\n",
    "# long_order_2.conditions.append(long_priceCondition_2)\n",
    "# close_order_1.conditions.append(close_priceCondition_1)\n",
    "# close_order_2.conditions.append(close_priceCondition_2)"
   ]
  },
  {
   "cell_type": "code",
   "execution_count": null,
   "id": "a9d323a0",
   "metadata": {},
   "outputs": [],
   "source": [
    "long_order_1,# close_order_1, close_order_2"
   ]
  },
  {
   "cell_type": "code",
   "execution_count": null,
   "id": "4db0dac9",
   "metadata": {},
   "outputs": [],
   "source": [
    "'Place a trade order.'\n",
    "trade_long_1=ib.placeOrder(etf,long_order_1)\n",
    "# trade_long_2=ib.placeOrder(etf,long_order_2)\n",
    "# trade_close_1=ib.placeOrder(etf,close_order_1)\n",
    "# trade_close_2=ib.placeOrder(etf,close_order_2)\n",
    "# trade_close=ib.placeOrder(etf,close_order)"
   ]
  },
  {
   "cell_type": "code",
   "execution_count": null,
   "id": "c09ba4d0",
   "metadata": {},
   "outputs": [],
   "source": [
    "trade_long_1.orderStatus #, trade_close_1.orderStatus, trade_close_2.orderStatus"
   ]
  },
  {
   "cell_type": "code",
   "execution_count": null,
   "id": "072e23a4",
   "metadata": {},
   "outputs": [],
   "source": [
    "ib.openOrders()"
   ]
  },
  {
   "cell_type": "code",
   "execution_count": null,
   "id": "f8ed3d36",
   "metadata": {},
   "outputs": [],
   "source": [
    "for order in ib.openOrders():\n",
    "    ib.cancelOrder(order)"
   ]
  },
  {
   "cell_type": "code",
   "execution_count": null,
   "id": "cf07b6c8",
   "metadata": {},
   "outputs": [],
   "source": [
    "# ib.bracketOrder(takeProfitPrice=)"
   ]
  },
  {
   "cell_type": "code",
   "execution_count": null,
   "id": "423b2bc3",
   "metadata": {},
   "outputs": [],
   "source": [
    "# ib.trades()"
   ]
  },
  {
   "cell_type": "code",
   "execution_count": null,
   "id": "929333fc",
   "metadata": {},
   "outputs": [],
   "source": [
    "ib.positions()"
   ]
  },
  {
   "cell_type": "code",
   "execution_count": null,
   "id": "d93f9f73",
   "metadata": {},
   "outputs": [],
   "source": [
    "# *** Market Order ***\n",
    "# %%time\n",
    "#\n",
    "# order = MarketOrder('SELL', 200)\n",
    "# contract = Stock(symbol ='USO', exchange = 'SMART', currency = 'USD')\n",
    "# trade_market_order = ib.placeOrder(contract, order)\n",
    "# while not trade.isDone():\n",
    "# ib.waitOnUpdate()\n",
    "# trade_market_order.orderStatus"
   ]
  },
  {
   "cell_type": "code",
   "execution_count": null,
   "id": "12d79434",
   "metadata": {},
   "outputs": [],
   "source": [
    "# t_prof_order = LimitOrder(action='SELL', totalQuantity=200, lmtPrice=77.25, outsideRth=True)\n",
    "# t_prof_priceCondition = PriceCondition(conId=etf.conId, exch='SMART', isMore=True, price=77.29)\n",
    "# t_prof_order.conditions.append(t_prof_priceCondition)\n",
    "# trade_t_prof=ib.placeOrder(etf,t_prof_order)"
   ]
  },
  {
   "cell_type": "code",
   "execution_count": null,
   "id": "8851ecb6",
   "metadata": {},
   "outputs": [],
   "source": []
  }
 ],
 "metadata": {
  "kernelspec": {
   "display_name": "Python 3 (ipykernel)",
   "language": "python",
   "name": "python3"
  },
  "language_info": {
   "codemirror_mode": {
    "name": "ipython",
    "version": 3
   },
   "file_extension": ".py",
   "mimetype": "text/x-python",
   "name": "python",
   "nbconvert_exporter": "python",
   "pygments_lexer": "ipython3",
   "version": "3.11.5"
  }
 },
 "nbformat": 4,
 "nbformat_minor": 5
}
