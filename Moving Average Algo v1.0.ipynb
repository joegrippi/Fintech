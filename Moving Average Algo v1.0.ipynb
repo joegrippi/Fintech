{
 "cells": [
  {
   "cell_type": "markdown",
   "id": "e78539df",
   "metadata": {},
   "source": [
    "# Moving Average Algo V1.0"
   ]
  },
  {
   "cell_type": "code",
   "execution_count": null,
   "id": "986cfe2d",
   "metadata": {},
   "outputs": [],
   "source": [
    "\"\"\" Please note that this is a work in progress.\n",
    "It uses ib_insync for execution and yfinance for Market Data.\n",
    "This is just for Daily Analysis at the moment before applying this to strategy to anything quicker than a daily strategy,\n",
    "I suggest using a fee service for reliability.\"\"\"\n",
    "\n",
    "### Import Libraries\n",
    "import math\n",
    "import pandas as pd\n",
    "import numpy as np\n",
    "import requests as r\n",
    "import yfinance as yf\n",
    "from datetime import datetime\n",
    "datetime.now()"
   ]
  },
  {
   "cell_type": "code",
   "execution_count": 1,
   "id": "6fdb74f9",
   "metadata": {},
   "outputs": [
    {
     "name": "stderr",
     "output_type": "stream",
     "text": [
      "Peer closed connection. clientId 17 already in use?\n",
      "API connection failed: TimeoutError()\n"
     ]
    },
    {
     "ename": "TimeoutError",
     "evalue": "",
     "output_type": "error",
     "traceback": [
      "\u001b[1;31m---------------------------------------------------------------------------\u001b[0m",
      "\u001b[1;31mCancelledError\u001b[0m                            Traceback (most recent call last)",
      "File \u001b[1;32mC:\\ProgramData\\anaconda3\\Lib\\asyncio\\tasks.py:490\u001b[0m, in \u001b[0;36mwait_for\u001b[1;34m(fut, timeout)\u001b[0m\n\u001b[0;32m    489\u001b[0m \u001b[38;5;28;01mtry\u001b[39;00m:\n\u001b[1;32m--> 490\u001b[0m     \u001b[38;5;28;01mreturn\u001b[39;00m fut\u001b[38;5;241m.\u001b[39mresult()\n\u001b[0;32m    491\u001b[0m \u001b[38;5;28;01mexcept\u001b[39;00m exceptions\u001b[38;5;241m.\u001b[39mCancelledError \u001b[38;5;28;01mas\u001b[39;00m exc:\n",
      "File \u001b[1;32mC:\\ProgramData\\anaconda3\\Lib\\asyncio\\futures.py:198\u001b[0m, in \u001b[0;36mFuture.result\u001b[1;34m(self)\u001b[0m\n\u001b[0;32m    197\u001b[0m     exc \u001b[38;5;241m=\u001b[39m \u001b[38;5;28mself\u001b[39m\u001b[38;5;241m.\u001b[39m_make_cancelled_error()\n\u001b[1;32m--> 198\u001b[0m     \u001b[38;5;28;01mraise\u001b[39;00m exc\n\u001b[0;32m    199\u001b[0m \u001b[38;5;28;01mif\u001b[39;00m \u001b[38;5;28mself\u001b[39m\u001b[38;5;241m.\u001b[39m_state \u001b[38;5;241m!=\u001b[39m _FINISHED:\n",
      "File \u001b[1;32mC:\\ProgramData\\anaconda3\\Lib\\asyncio\\tasks.py:269\u001b[0m, in \u001b[0;36mTask.__step\u001b[1;34m(***failed resolving arguments***)\u001b[0m\n\u001b[0;32m    268\u001b[0m     \u001b[38;5;28;01melse\u001b[39;00m:\n\u001b[1;32m--> 269\u001b[0m         result \u001b[38;5;241m=\u001b[39m coro\u001b[38;5;241m.\u001b[39mthrow(exc)\n\u001b[0;32m    270\u001b[0m \u001b[38;5;28;01mexcept\u001b[39;00m \u001b[38;5;167;01mStopIteration\u001b[39;00m \u001b[38;5;28;01mas\u001b[39;00m exc:\n",
      "File \u001b[1;32mC:\\ProgramData\\anaconda3\\Lib\\asyncio\\tasks.py:684\u001b[0m, in \u001b[0;36m_wrap_awaitable\u001b[1;34m(awaitable)\u001b[0m\n\u001b[0;32m    679\u001b[0m \u001b[38;5;250m\u001b[39m\u001b[38;5;124;03m\"\"\"Helper for asyncio.ensure_future().\u001b[39;00m\n\u001b[0;32m    680\u001b[0m \n\u001b[0;32m    681\u001b[0m \u001b[38;5;124;03mWraps awaitable (an object with __await__) into a coroutine\u001b[39;00m\n\u001b[0;32m    682\u001b[0m \u001b[38;5;124;03mthat will later be wrapped in a Task by ensure_future().\u001b[39;00m\n\u001b[0;32m    683\u001b[0m \u001b[38;5;124;03m\"\"\"\u001b[39;00m\n\u001b[1;32m--> 684\u001b[0m \u001b[38;5;28;01mreturn\u001b[39;00m (\u001b[38;5;28;01myield from\u001b[39;00m awaitable\u001b[38;5;241m.\u001b[39m\u001b[38;5;21m__await__\u001b[39m())\n",
      "File \u001b[1;32mC:\\ProgramData\\anaconda3\\Lib\\asyncio\\futures.py:287\u001b[0m, in \u001b[0;36mFuture.__await__\u001b[1;34m(self)\u001b[0m\n\u001b[0;32m    286\u001b[0m     \u001b[38;5;28mself\u001b[39m\u001b[38;5;241m.\u001b[39m_asyncio_future_blocking \u001b[38;5;241m=\u001b[39m \u001b[38;5;28;01mTrue\u001b[39;00m\n\u001b[1;32m--> 287\u001b[0m     \u001b[38;5;28;01myield\u001b[39;00m \u001b[38;5;28mself\u001b[39m  \u001b[38;5;66;03m# This tells Task to wait for completion.\u001b[39;00m\n\u001b[0;32m    288\u001b[0m \u001b[38;5;28;01mif\u001b[39;00m \u001b[38;5;129;01mnot\u001b[39;00m \u001b[38;5;28mself\u001b[39m\u001b[38;5;241m.\u001b[39mdone():\n",
      "File \u001b[1;32mC:\\ProgramData\\anaconda3\\Lib\\asyncio\\tasks.py:339\u001b[0m, in \u001b[0;36mTask.__wakeup\u001b[1;34m(self, future)\u001b[0m\n\u001b[0;32m    338\u001b[0m \u001b[38;5;28;01mtry\u001b[39;00m:\n\u001b[1;32m--> 339\u001b[0m     future\u001b[38;5;241m.\u001b[39mresult()\n\u001b[0;32m    340\u001b[0m \u001b[38;5;28;01mexcept\u001b[39;00m \u001b[38;5;167;01mBaseException\u001b[39;00m \u001b[38;5;28;01mas\u001b[39;00m exc:\n\u001b[0;32m    341\u001b[0m     \u001b[38;5;66;03m# This may also be a cancellation.\u001b[39;00m\n",
      "File \u001b[1;32mC:\\ProgramData\\anaconda3\\Lib\\asyncio\\futures.py:198\u001b[0m, in \u001b[0;36mFuture.result\u001b[1;34m(self)\u001b[0m\n\u001b[0;32m    197\u001b[0m     exc \u001b[38;5;241m=\u001b[39m \u001b[38;5;28mself\u001b[39m\u001b[38;5;241m.\u001b[39m_make_cancelled_error()\n\u001b[1;32m--> 198\u001b[0m     \u001b[38;5;28;01mraise\u001b[39;00m exc\n\u001b[0;32m    199\u001b[0m \u001b[38;5;28;01mif\u001b[39;00m \u001b[38;5;28mself\u001b[39m\u001b[38;5;241m.\u001b[39m_state \u001b[38;5;241m!=\u001b[39m _FINISHED:\n",
      "\u001b[1;31mCancelledError\u001b[0m: ",
      "\nThe above exception was the direct cause of the following exception:\n",
      "\u001b[1;31mTimeoutError\u001b[0m                              Traceback (most recent call last)",
      "Cell \u001b[1;32mIn[1], line 5\u001b[0m\n\u001b[0;32m      3\u001b[0m util\u001b[38;5;241m.\u001b[39mstartLoop() \u001b[38;5;66;03m#Use when using jupyter notebooks\u001b[39;00m\n\u001b[0;32m      4\u001b[0m ib \u001b[38;5;241m=\u001b[39m IB()\n\u001b[1;32m----> 5\u001b[0m ib\u001b[38;5;241m.\u001b[39mconnect(\u001b[38;5;124m'\u001b[39m\u001b[38;5;124m127.0.0.1\u001b[39m\u001b[38;5;124m'\u001b[39m, \u001b[38;5;241m4001\u001b[39m, clientId\u001b[38;5;241m=\u001b[39m\u001b[38;5;241m17\u001b[39m) \u001b[38;5;66;03m# ibgateway\u001b[39;00m\n\u001b[0;32m      6\u001b[0m ib\u001b[38;5;241m.\u001b[39msleep(\u001b[38;5;241m2\u001b[39m)\n",
      "File \u001b[1;32m~\\AppData\\Roaming\\Python\\Python311\\site-packages\\ib_insync\\ib.py:279\u001b[0m, in \u001b[0;36mIB.connect\u001b[1;34m(self, host, port, clientId, timeout, readonly, account)\u001b[0m\n\u001b[0;32m    257\u001b[0m \u001b[38;5;28;01mdef\u001b[39;00m \u001b[38;5;21mconnect\u001b[39m(\n\u001b[0;32m    258\u001b[0m         \u001b[38;5;28mself\u001b[39m, host: \u001b[38;5;28mstr\u001b[39m \u001b[38;5;241m=\u001b[39m \u001b[38;5;124m'\u001b[39m\u001b[38;5;124m127.0.0.1\u001b[39m\u001b[38;5;124m'\u001b[39m, port: \u001b[38;5;28mint\u001b[39m \u001b[38;5;241m=\u001b[39m \u001b[38;5;241m7497\u001b[39m, clientId: \u001b[38;5;28mint\u001b[39m \u001b[38;5;241m=\u001b[39m \u001b[38;5;241m1\u001b[39m,\n\u001b[0;32m    259\u001b[0m         timeout: \u001b[38;5;28mfloat\u001b[39m \u001b[38;5;241m=\u001b[39m \u001b[38;5;241m4\u001b[39m, readonly: \u001b[38;5;28mbool\u001b[39m \u001b[38;5;241m=\u001b[39m \u001b[38;5;28;01mFalse\u001b[39;00m, account: \u001b[38;5;28mstr\u001b[39m \u001b[38;5;241m=\u001b[39m \u001b[38;5;124m'\u001b[39m\u001b[38;5;124m'\u001b[39m):\n\u001b[0;32m    260\u001b[0m \u001b[38;5;250m    \u001b[39m\u001b[38;5;124;03m\"\"\"\u001b[39;00m\n\u001b[0;32m    261\u001b[0m \u001b[38;5;124;03m    Connect to a running TWS or IB gateway application.\u001b[39;00m\n\u001b[0;32m    262\u001b[0m \u001b[38;5;124;03m    After the connection is made the client is fully synchronized\u001b[39;00m\n\u001b[1;32m   (...)\u001b[0m\n\u001b[0;32m    277\u001b[0m \u001b[38;5;124;03m        account: Main account to receive updates for.\u001b[39;00m\n\u001b[0;32m    278\u001b[0m \u001b[38;5;124;03m    \"\"\"\u001b[39;00m\n\u001b[1;32m--> 279\u001b[0m     \u001b[38;5;28;01mreturn\u001b[39;00m \u001b[38;5;28mself\u001b[39m\u001b[38;5;241m.\u001b[39m_run(\u001b[38;5;28mself\u001b[39m\u001b[38;5;241m.\u001b[39mconnectAsync(\n\u001b[0;32m    280\u001b[0m         host, port, clientId, timeout, readonly, account))\n",
      "File \u001b[1;32m~\\AppData\\Roaming\\Python\\Python311\\site-packages\\ib_insync\\ib.py:318\u001b[0m, in \u001b[0;36mIB._run\u001b[1;34m(self, *awaitables)\u001b[0m\n\u001b[0;32m    317\u001b[0m \u001b[38;5;28;01mdef\u001b[39;00m \u001b[38;5;21m_run\u001b[39m(\u001b[38;5;28mself\u001b[39m, \u001b[38;5;241m*\u001b[39mawaitables: Awaitable):\n\u001b[1;32m--> 318\u001b[0m     \u001b[38;5;28;01mreturn\u001b[39;00m util\u001b[38;5;241m.\u001b[39mrun(\u001b[38;5;241m*\u001b[39mawaitables, timeout\u001b[38;5;241m=\u001b[39m\u001b[38;5;28mself\u001b[39m\u001b[38;5;241m.\u001b[39mRequestTimeout)\n",
      "File \u001b[1;32m~\\AppData\\Roaming\\Python\\Python311\\site-packages\\ib_insync\\util.py:341\u001b[0m, in \u001b[0;36mrun\u001b[1;34m(timeout, *awaitables)\u001b[0m\n\u001b[0;32m    339\u001b[0m globalErrorEvent\u001b[38;5;241m.\u001b[39mconnect(onError)\n\u001b[0;32m    340\u001b[0m \u001b[38;5;28;01mtry\u001b[39;00m:\n\u001b[1;32m--> 341\u001b[0m     result \u001b[38;5;241m=\u001b[39m loop\u001b[38;5;241m.\u001b[39mrun_until_complete(task)\n\u001b[0;32m    342\u001b[0m \u001b[38;5;28;01mexcept\u001b[39;00m asyncio\u001b[38;5;241m.\u001b[39mCancelledError \u001b[38;5;28;01mas\u001b[39;00m e:\n\u001b[0;32m    343\u001b[0m     \u001b[38;5;28;01mraise\u001b[39;00m globalErrorEvent\u001b[38;5;241m.\u001b[39mvalue() \u001b[38;5;129;01mor\u001b[39;00m e\n",
      "File \u001b[1;32mC:\\ProgramData\\anaconda3\\Lib\\site-packages\\nest_asyncio.py:90\u001b[0m, in \u001b[0;36m_patch_loop.<locals>.run_until_complete\u001b[1;34m(self, future)\u001b[0m\n\u001b[0;32m     87\u001b[0m \u001b[38;5;28;01mif\u001b[39;00m \u001b[38;5;129;01mnot\u001b[39;00m f\u001b[38;5;241m.\u001b[39mdone():\n\u001b[0;32m     88\u001b[0m     \u001b[38;5;28;01mraise\u001b[39;00m \u001b[38;5;167;01mRuntimeError\u001b[39;00m(\n\u001b[0;32m     89\u001b[0m         \u001b[38;5;124m'\u001b[39m\u001b[38;5;124mEvent loop stopped before Future completed.\u001b[39m\u001b[38;5;124m'\u001b[39m)\n\u001b[1;32m---> 90\u001b[0m \u001b[38;5;28;01mreturn\u001b[39;00m f\u001b[38;5;241m.\u001b[39mresult()\n",
      "File \u001b[1;32mC:\\ProgramData\\anaconda3\\Lib\\asyncio\\futures.py:203\u001b[0m, in \u001b[0;36mFuture.result\u001b[1;34m(self)\u001b[0m\n\u001b[0;32m    201\u001b[0m \u001b[38;5;28mself\u001b[39m\u001b[38;5;241m.\u001b[39m__log_traceback \u001b[38;5;241m=\u001b[39m \u001b[38;5;28;01mFalse\u001b[39;00m\n\u001b[0;32m    202\u001b[0m \u001b[38;5;28;01mif\u001b[39;00m \u001b[38;5;28mself\u001b[39m\u001b[38;5;241m.\u001b[39m_exception \u001b[38;5;129;01mis\u001b[39;00m \u001b[38;5;129;01mnot\u001b[39;00m \u001b[38;5;28;01mNone\u001b[39;00m:\n\u001b[1;32m--> 203\u001b[0m     \u001b[38;5;28;01mraise\u001b[39;00m \u001b[38;5;28mself\u001b[39m\u001b[38;5;241m.\u001b[39m_exception\u001b[38;5;241m.\u001b[39mwith_traceback(\u001b[38;5;28mself\u001b[39m\u001b[38;5;241m.\u001b[39m_exception_tb)\n\u001b[0;32m    204\u001b[0m \u001b[38;5;28;01mreturn\u001b[39;00m \u001b[38;5;28mself\u001b[39m\u001b[38;5;241m.\u001b[39m_result\n",
      "File \u001b[1;32mC:\\ProgramData\\anaconda3\\Lib\\asyncio\\tasks.py:267\u001b[0m, in \u001b[0;36mTask.__step\u001b[1;34m(***failed resolving arguments***)\u001b[0m\n\u001b[0;32m    263\u001b[0m \u001b[38;5;28;01mtry\u001b[39;00m:\n\u001b[0;32m    264\u001b[0m     \u001b[38;5;28;01mif\u001b[39;00m exc \u001b[38;5;129;01mis\u001b[39;00m \u001b[38;5;28;01mNone\u001b[39;00m:\n\u001b[0;32m    265\u001b[0m         \u001b[38;5;66;03m# We use the `send` method directly, because coroutines\u001b[39;00m\n\u001b[0;32m    266\u001b[0m         \u001b[38;5;66;03m# don't have `__iter__` and `__next__` methods.\u001b[39;00m\n\u001b[1;32m--> 267\u001b[0m         result \u001b[38;5;241m=\u001b[39m coro\u001b[38;5;241m.\u001b[39msend(\u001b[38;5;28;01mNone\u001b[39;00m)\n\u001b[0;32m    268\u001b[0m     \u001b[38;5;28;01melse\u001b[39;00m:\n\u001b[0;32m    269\u001b[0m         result \u001b[38;5;241m=\u001b[39m coro\u001b[38;5;241m.\u001b[39mthrow(exc)\n",
      "File \u001b[1;32m~\\AppData\\Roaming\\Python\\Python311\\site-packages\\ib_insync\\ib.py:1748\u001b[0m, in \u001b[0;36mIB.connectAsync\u001b[1;34m(self, host, port, clientId, timeout, readonly, account)\u001b[0m\n\u001b[0;32m   1745\u001b[0m timeout \u001b[38;5;241m=\u001b[39m timeout \u001b[38;5;129;01mor\u001b[39;00m \u001b[38;5;28;01mNone\u001b[39;00m\n\u001b[0;32m   1746\u001b[0m \u001b[38;5;28;01mtry\u001b[39;00m:\n\u001b[0;32m   1747\u001b[0m     \u001b[38;5;66;03m# establish API connection\u001b[39;00m\n\u001b[1;32m-> 1748\u001b[0m     \u001b[38;5;28;01mawait\u001b[39;00m \u001b[38;5;28mself\u001b[39m\u001b[38;5;241m.\u001b[39mclient\u001b[38;5;241m.\u001b[39mconnectAsync(host, port, clientId, timeout)\n\u001b[0;32m   1750\u001b[0m     \u001b[38;5;66;03m# autobind manual orders\u001b[39;00m\n\u001b[0;32m   1751\u001b[0m     \u001b[38;5;28;01mif\u001b[39;00m clientId \u001b[38;5;241m==\u001b[39m \u001b[38;5;241m0\u001b[39m:\n",
      "File \u001b[1;32m~\\AppData\\Roaming\\Python\\Python311\\site-packages\\ib_insync\\client.py:217\u001b[0m, in \u001b[0;36mClient.connectAsync\u001b[1;34m(self, host, port, clientId, timeout)\u001b[0m\n\u001b[0;32m    213\u001b[0m     msg \u001b[38;5;241m=\u001b[39m \u001b[38;5;124mb\u001b[39m\u001b[38;5;124m'\u001b[39m\u001b[38;5;124mAPI\u001b[39m\u001b[38;5;130;01m\\0\u001b[39;00m\u001b[38;5;124m'\u001b[39m \u001b[38;5;241m+\u001b[39m \u001b[38;5;28mself\u001b[39m\u001b[38;5;241m.\u001b[39m_prefix(\u001b[38;5;124mb\u001b[39m\u001b[38;5;124m'\u001b[39m\u001b[38;5;124mv\u001b[39m\u001b[38;5;132;01m%d\u001b[39;00m\u001b[38;5;124m..\u001b[39m\u001b[38;5;132;01m%d\u001b[39;00m\u001b[38;5;132;01m%s\u001b[39;00m\u001b[38;5;124m'\u001b[39m \u001b[38;5;241m%\u001b[39m (\n\u001b[0;32m    214\u001b[0m         \u001b[38;5;28mself\u001b[39m\u001b[38;5;241m.\u001b[39mMinClientVersion, \u001b[38;5;28mself\u001b[39m\u001b[38;5;241m.\u001b[39mMaxClientVersion,\n\u001b[0;32m    215\u001b[0m         \u001b[38;5;124mb\u001b[39m\u001b[38;5;124m'\u001b[39m\u001b[38;5;124m \u001b[39m\u001b[38;5;124m'\u001b[39m \u001b[38;5;241m+\u001b[39m \u001b[38;5;28mself\u001b[39m\u001b[38;5;241m.\u001b[39mconnectOptions \u001b[38;5;28;01mif\u001b[39;00m \u001b[38;5;28mself\u001b[39m\u001b[38;5;241m.\u001b[39mconnectOptions \u001b[38;5;28;01melse\u001b[39;00m \u001b[38;5;124mb\u001b[39m\u001b[38;5;124m'\u001b[39m\u001b[38;5;124m'\u001b[39m))\n\u001b[0;32m    216\u001b[0m     \u001b[38;5;28mself\u001b[39m\u001b[38;5;241m.\u001b[39mconn\u001b[38;5;241m.\u001b[39msendMsg(msg)\n\u001b[1;32m--> 217\u001b[0m     \u001b[38;5;28;01mawait\u001b[39;00m asyncio\u001b[38;5;241m.\u001b[39mwait_for(\u001b[38;5;28mself\u001b[39m\u001b[38;5;241m.\u001b[39mapiStart, timeout)\n\u001b[0;32m    218\u001b[0m     \u001b[38;5;28mself\u001b[39m\u001b[38;5;241m.\u001b[39m_logger\u001b[38;5;241m.\u001b[39minfo(\u001b[38;5;124m'\u001b[39m\u001b[38;5;124mAPI connection ready\u001b[39m\u001b[38;5;124m'\u001b[39m)\n\u001b[0;32m    219\u001b[0m \u001b[38;5;28;01mexcept\u001b[39;00m \u001b[38;5;167;01mBaseException\u001b[39;00m \u001b[38;5;28;01mas\u001b[39;00m e:\n",
      "File \u001b[1;32mC:\\ProgramData\\anaconda3\\Lib\\asyncio\\tasks.py:492\u001b[0m, in \u001b[0;36mwait_for\u001b[1;34m(fut, timeout)\u001b[0m\n\u001b[0;32m    490\u001b[0m             \u001b[38;5;28;01mreturn\u001b[39;00m fut\u001b[38;5;241m.\u001b[39mresult()\n\u001b[0;32m    491\u001b[0m         \u001b[38;5;28;01mexcept\u001b[39;00m exceptions\u001b[38;5;241m.\u001b[39mCancelledError \u001b[38;5;28;01mas\u001b[39;00m exc:\n\u001b[1;32m--> 492\u001b[0m             \u001b[38;5;28;01mraise\u001b[39;00m exceptions\u001b[38;5;241m.\u001b[39mTimeoutError() \u001b[38;5;28;01mfrom\u001b[39;00m \u001b[38;5;21;01mexc\u001b[39;00m\n\u001b[0;32m    493\u001b[0m \u001b[38;5;28;01mfinally\u001b[39;00m:\n\u001b[0;32m    494\u001b[0m     timeout_handle\u001b[38;5;241m.\u001b[39mcancel()\n",
      "\u001b[1;31mTimeoutError\u001b[0m: "
     ]
    }
   ],
   "source": [
    "### must be connected to interactive brokers\n",
    "from ib_insync import *\n",
    "util.startLoop() #Use when using jupyter notebooks\n",
    "ib = IB()\n",
    "ib.connect('127.0.0.1', 4001, clientId=17) # ibgateway\n",
    "ib.sleep(2)"
   ]
  },
  {
   "cell_type": "code",
   "execution_count": null,
   "id": "cd855e57",
   "metadata": {},
   "outputs": [],
   "source": [
    "### test Inteactive Brokers Connectivity\n",
    "ib.isConnected()"
   ]
  },
  {
   "cell_type": "code",
   "execution_count": null,
   "id": "513462ca",
   "metadata": {},
   "outputs": [],
   "source": [
    "# check current positions\n",
    "ib.positions()"
   ]
  },
  {
   "cell_type": "code",
   "execution_count": null,
   "id": "819c2f3b",
   "metadata": {},
   "outputs": [],
   "source": [
    "# Below call will list all available dimensions via yfinance\n",
    "# yf.Ticker(etf).info"
   ]
  },
  {
   "cell_type": "code",
   "execution_count": null,
   "id": "68e66516",
   "metadata": {},
   "outputs": [],
   "source": [
    "etf='USO'\n",
    "etf_52l=yf.Ticker(etf).info['fiftyTwoWeekLow']\n",
    "etf_52h=yf.Ticker(etf).info['fiftyTwoWeekHigh']\n",
    "etf_bid=yf.Ticker(etf).info['bid']\n",
    "etf_ask=yf.Ticker(etf).info['ask']\n",
    "etf_last=((etf_bid+etf_ask)/2) #used to set up trade conditions in the premarket\n",
    "etf_52l, etf_52h, etf_last"
   ]
  },
  {
   "cell_type": "code",
   "execution_count": null,
   "id": "ce2ab40e",
   "metadata": {},
   "outputs": [],
   "source": [
    "# convert etf_last to a dataframe concat\n",
    "last=pd.DataFrame({'Close': etf_last}, index=['Today'])\n",
    "last"
   ]
  },
  {
   "cell_type": "code",
   "execution_count": null,
   "id": "6c134abb",
   "metadata": {},
   "outputs": [],
   "source": [
    "# download historical data, for strategy, please note that you can change history to shorter intervals but please note that\n",
    "# yfinance does give 'noisy' data!\n",
    "etf_hist = yf.download(etf, start=datetime(2019,1,1), end=datetime(2024,6,26))['Close']"
   ]
  },
  {
   "cell_type": "code",
   "execution_count": null,
   "id": "25f14635",
   "metadata": {},
   "outputs": [],
   "source": [
    "etf_hist=pd.DataFrame(etf_hist)\n",
    "# etf_hist=pd.concat([etf_hist, last]) use in premarket\n",
    "etf_hist['sma5']=etf_hist.Close.rolling(5).mean()\n",
    "etf_hist['sma10']=etf_hist.Close.rolling(10).mean()\n",
    "etf_hist['sma20']=etf_hist.Close.rolling(20).mean()\n",
    "# etf=etf.rename({'Close': 'close'}, axis='columns')\n",
    "etf_hist.dropna(inplace=True)\n",
    "etf_hist=etf_hist.round(2)\n",
    "display(etf_hist['sma5'].iloc[-1], etf_hist['sma10'].iloc[-1],etf_hist['sma20'].iloc[-1])\n",
    "etf_hist.tail()"
   ]
  },
  {
   "cell_type": "code",
   "execution_count": null,
   "id": "fd6c9064",
   "metadata": {},
   "outputs": [],
   "source": [
    "# retrieve balance\n",
    "#to see all available tags, run ib.accountValues()\n",
    "balance = float([x.value for x in ib.accountValues() if x.tag=='AvailableFunds' and x.currency=='USD'][0])\n",
    "# calculate risk and share purchase amount\n",
    "max_risk = math.floor(((balance*.02)/((etf_hist['sma10'].iloc[-1]+.03)-(etf_hist['sma20'].iloc[-1]))))\n",
    "optimal_cost = ((etf_hist['sma10'].iloc[-1]+.03) * max_risk).round(2)\n",
    "# if you would like to set your share amount and see your cost\n",
    "size=250\n",
    "cost = (etf_hist['sma10'].iloc[-1]+.03) * size\n",
    "#snapshot:\n",
    "balance,max_risk, optimal_cost, cost "
   ]
  },
  {
   "cell_type": "code",
   "execution_count": null,
   "id": "534dbfb3",
   "metadata": {},
   "outputs": [],
   "source": [
    "# set contract and size for interactive brokers\n",
    "etf1 = Stock(symbol = etf, exchange = 'SMART', currency = 'USD')\n",
    "ib.qualifyContracts(etf1)"
   ]
  },
  {
   "cell_type": "code",
   "execution_count": null,
   "id": "b8dbabe8",
   "metadata": {},
   "outputs": [],
   "source": [
    "# if sma5>sma10>sma20 then buy etf @ sma10\n",
    "long_order = LimitOrder(action='BUY', totalQuantity=max_risk, lmtPrice=etf_hist['sma10'].iloc[-1], outsideRth=True)\n",
    "long_priceCondition = PriceCondition(conId=etf1.conId, exch='SMART', isMore=False, price=etf_hist['sma10'].iloc[-1])\n",
    "long_order.conditions.append(long_priceCondition)\n",
    "if etf_hist['sma5'].iloc[-1]>etf_hist['sma10'].iloc[-1]>etf_hist['sma20'].iloc[-1]:\n",
    "    trade_long=ib.placeOrder(etf1,long_order)"
   ]
  },
  {
   "cell_type": "code",
   "execution_count": null,
   "id": "cbf753e2",
   "metadata": {},
   "outputs": [],
   "source": [
    "# check order status\n",
    "trade_long.orderStatus"
   ]
  },
  {
   "cell_type": "code",
   "execution_count": null,
   "id": "f82836e4",
   "metadata": {},
   "outputs": [],
   "source": [
    "# check open orders\n",
    "ib.openOrders()"
   ]
  },
  {
   "cell_type": "code",
   "execution_count": null,
   "id": "48d70a64",
   "metadata": {},
   "outputs": [],
   "source": [
    "# cancel all open orders\n",
    "for order in ib.openOrders():\n",
    "    ib.cancelOrder(order)"
   ]
  },
  {
   "cell_type": "code",
   "execution_count": null,
   "id": "efe0ae7e",
   "metadata": {},
   "outputs": [],
   "source": [
    "# close long orders, if an order is filled, this will have to be ran.\n",
    "#close on profit\n",
    "co_tp=LimitOrder(action='SELL', totalQuantity=max_risk, lmtPrice=etf_52h -.25, outsideRth=True)\n",
    "co_tp_priceCondition = PriceCondition(conId=etf1.conId, exch='SMART', isMore=True, price=etf_52h -.25)\n",
    "co_tp.conditions.append(co_tp_priceCondition)\n",
    "#close on lost\n",
    "co_sl=LimitOrder(action='SELL', totalQuantity=max_risk, lmtPrice=etf_hist['sma20'].iloc[-1] - .25, outsideRth=True)\n",
    "co_sl_priceCondition = PriceCondition(conId=etf1.conId, exch='SMART', isMore=False, price=etf_hist['sma20'].iloc[-1] - .24)\n",
    "co_sl.conditions.append(co_sl_priceCondition)\n",
    "if len(ib.positions()) > 0:\n",
    "    ct_tp=ib.placeOrder(etf1,co_tp)\n",
    "    ct_sl=ib.placeOrder(etf1,co_sl)\n"
   ]
  },
  {
   "cell_type": "code",
   "execution_count": 2,
   "id": "2243934b",
   "metadata": {},
   "outputs": [
    {
     "data": {
      "text/plain": [
       "[]"
      ]
     },
     "execution_count": 2,
     "metadata": {},
     "output_type": "execute_result"
    }
   ],
   "source": [
    "# current positions\n",
    "ib.positions()"
   ]
  },
  {
   "cell_type": "code",
   "execution_count": null,
   "id": "b3c48360",
   "metadata": {},
   "outputs": [],
   "source": [
    "# trade summary \n",
    "ib.trades()"
   ]
  },
  {
   "cell_type": "code",
   "execution_count": null,
   "id": "d6c4954f",
   "metadata": {},
   "outputs": [],
   "source": []
  }
 ],
 "metadata": {
  "kernelspec": {
   "display_name": "Python 3 (ipykernel)",
   "language": "python",
   "name": "python3"
  },
  "language_info": {
   "codemirror_mode": {
    "name": "ipython",
    "version": 3
   },
   "file_extension": ".py",
   "mimetype": "text/x-python",
   "name": "python",
   "nbconvert_exporter": "python",
   "pygments_lexer": "ipython3",
   "version": "3.11.5"
  }
 },
 "nbformat": 4,
 "nbformat_minor": 5
}
