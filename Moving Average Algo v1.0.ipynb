{
 "cells": [
  {
   "cell_type": "markdown",
   "id": "e78539df",
   "metadata": {},
   "source": [
    "# Moving Average Algo V1.0"
   ]
  },
  {
   "cell_type": "code",
   "execution_count": null,
   "id": "986cfe2d",
   "metadata": {},
   "outputs": [],
   "source": [
    "\"\"\" Please note that this is a work in progress.\n",
    "It uses ib_insync for execution and yfinance for Market Data.\n",
    "This is just for Daily Analysis at the moment before applying this to strategy to anything quicker than a daily strategy,\n",
    "I suggest using a fee service for reliability.\"\"\"\n",
    "\n",
    "### Import Libraries\n",
    "import math\n",
    "import pandas as pd\n",
    "import numpy as np\n",
    "import requests as r\n",
    "import yfinance as yf\n",
    "from datetime import datetime\n",
    "datetime.now()"
   ]
  },
  {
   "cell_type": "code",
   "execution_count": null,
   "id": "6fdb74f9",
   "metadata": {},
   "outputs": [],
   "source": [
    "### must be connected to interactive brokers\n",
    "from ib_insync import *\n",
    "util.startLoop() #Use when using jupyter notebooks\n",
    "ib = IB()\n",
    "ib.connect('127.0.0.1', 4001, clientId=17) # ibgateway\n",
    "ib.sleep(2)"
   ]
  },
  {
   "cell_type": "code",
   "execution_count": null,
   "id": "cd855e57",
   "metadata": {},
   "outputs": [],
   "source": [
    "### test Inteactive Brokers Connectivity\n",
    "ib.isConnected()"
   ]
  },
  {
   "cell_type": "code",
   "execution_count": null,
   "id": "513462ca",
   "metadata": {},
   "outputs": [],
   "source": [
    "# check current positions\n",
    "ib.positions()"
   ]
  },
  {
   "cell_type": "code",
   "execution_count": null,
   "id": "819c2f3b",
   "metadata": {},
   "outputs": [],
   "source": [
    "# Below call will list all available dimensions via yfinance\n",
    "# yf.Ticker(etf).info"
   ]
  },
  {
   "cell_type": "code",
   "execution_count": null,
   "id": "68e66516",
   "metadata": {},
   "outputs": [],
   "source": [
    "etf='USO'\n",
    "etf_52l=yf.Ticker(etf).info['fiftyTwoWeekLow']\n",
    "etf_52h=yf.Ticker(etf).info['fiftyTwoWeekHigh']\n",
    "etf_bid=yf.Ticker(etf).info['bid']\n",
    "etf_ask=yf.Ticker(etf).info['ask']\n",
    "etf_last=((etf_bid+etf_ask)/2) #used to set up trade conditions in the premarket\n",
    "etf_52l, etf_52h, etf_last"
   ]
  },
  {
   "cell_type": "code",
   "execution_count": null,
   "id": "ce2ab40e",
   "metadata": {},
   "outputs": [],
   "source": [
    "# convert etf_last to a dataframe concat\n",
    "last=pd.DataFrame({'Close': etf_last}, index=['Today'])\n",
    "last"
   ]
  },
  {
   "cell_type": "code",
   "execution_count": null,
   "id": "6c134abb",
   "metadata": {},
   "outputs": [],
   "source": [
    "# download historical data, for strategy, please note that you can change history to shorter intervals but please note that\n",
    "# yfinance does give 'noisy' data!\n",
    "etf_hist = yf.download(etf, start=datetime(2019,1,1), end=datetime(2024,6,26))['Close']"
   ]
  },
  {
   "cell_type": "code",
   "execution_count": null,
   "id": "25f14635",
   "metadata": {},
   "outputs": [],
   "source": [
    "etf_hist=pd.DataFrame(etf_hist)\n",
    "# etf_hist=pd.concat([etf_hist, last]) use in premarket\n",
    "etf_hist['sma5']=etf_hist.Close.rolling(5).mean()\n",
    "etf_hist['sma10']=etf_hist.Close.rolling(10).mean()\n",
    "etf_hist['sma20']=etf_hist.Close.rolling(20).mean()\n",
    "# etf=etf.rename({'Close': 'close'}, axis='columns')\n",
    "etf_hist.dropna(inplace=True)\n",
    "etf_hist=etf_hist.round(2)\n",
    "display(etf_hist['sma5'].iloc[-1], etf_hist['sma10'].iloc[-1],etf_hist['sma20'].iloc[-1])\n",
    "etf_hist.tail()"
   ]
  },
  {
   "cell_type": "code",
   "execution_count": null,
   "id": "fd6c9064",
   "metadata": {},
   "outputs": [],
   "source": [
    "# retrieve balance\n",
    "#to see all available tags, run ib.accountValues()\n",
    "balance = float([x.value for x in ib.accountValues() if x.tag=='AvailableFunds' and x.currency=='USD'][0])\n",
    "# calculate risk and share purchase amount\n",
    "max_risk = math.floor(((balance*.02)/((etf_hist['sma10'].iloc[-1]+.03)-(etf_hist['sma20'].iloc[-1]))))\n",
    "optimal_cost = ((etf_hist['sma10'].iloc[-1]+.03) * max_risk).round(2)\n",
    "# if you would like to set your share amount and see your cost\n",
    "size=250\n",
    "cost = (etf_hist['sma10'].iloc[-1]+.03) * size\n",
    "#snapshot:\n",
    "balance,max_risk, optimal_cost, cost "
   ]
  },
  {
   "cell_type": "code",
   "execution_count": null,
   "id": "534dbfb3",
   "metadata": {},
   "outputs": [],
   "source": [
    "# set contract and size for interactive brokers\n",
    "etf1 = Stock(symbol = etf, exchange = 'SMART', currency = 'USD')\n",
    "ib.qualifyContracts(etf1)"
   ]
  },
  {
   "cell_type": "code",
   "execution_count": null,
   "id": "b8dbabe8",
   "metadata": {},
   "outputs": [],
   "source": [
    "# if sma5>sma10>sma20 then buy etf @ sma10\n",
    "long_order = LimitOrder(action='BUY', totalQuantity=max_risk, lmtPrice=etf_hist['sma10'].iloc[-1], outsideRth=True)\n",
    "long_priceCondition = PriceCondition(conId=etf1.conId, exch='SMART', isMore=False, price=etf_hist['sma10'].iloc[-1])\n",
    "long_order.conditions.append(long_priceCondition)\n",
    "if etf_hist['sma5'].iloc[-1]>etf_hist['sma10'].iloc[-1]>etf_hist['sma20'].iloc[-1]:\n",
    "    trade_long=ib.placeOrder(etf1,long_order)"
   ]
  },
  {
   "cell_type": "code",
   "execution_count": null,
   "id": "cbf753e2",
   "metadata": {},
   "outputs": [],
   "source": [
    "# check order status\n",
    "trade_long.orderStatus"
   ]
  },
  {
   "cell_type": "code",
   "execution_count": null,
   "id": "f82836e4",
   "metadata": {},
   "outputs": [],
   "source": [
    "# check open orders\n",
    "ib.openOrders()"
   ]
  },
  {
   "cell_type": "code",
   "execution_count": null,
   "id": "48d70a64",
   "metadata": {},
   "outputs": [],
   "source": [
    "# cancel all open orders\n",
    "for order in ib.openOrders():\n",
    "    ib.cancelOrder(order)"
   ]
  },
  {
   "cell_type": "code",
   "execution_count": null,
   "id": "efe0ae7e",
   "metadata": {},
   "outputs": [],
   "source": [
    "# close long orders, if an order is filled, this will have to be ran.\n",
    "#close on profit\n",
    "co_tp=LimitOrder(action='SELL', totalQuantity=max_risk, lmtPrice=etf_52h -.25, outsideRth=True)\n",
    "co_tp_priceCondition = PriceCondition(conId=etf1.conId, exch='SMART', isMore=True, price=etf_52h -.25)\n",
    "co_tp.conditions.append(co_tp_priceCondition)\n",
    "#close on lost\n",
    "co_sl=LimitOrder(action='SELL', totalQuantity=max_risk, lmtPrice=etf_hist['sma20'].iloc[-1] - .25, outsideRth=True)\n",
    "co_sl_priceCondition = PriceCondition(conId=etf1.conId, exch='SMART', isMore=False, price=etf_hist['sma20'].iloc[-1] - .24)\n",
    "co_sl.conditions.append(co_sl_priceCondition)\n",
    "if len(ib.positions()) > 0:\n",
    "    ct_tp=ib.placeOrder(etf1,co_tp)\n",
    "    ct_sl=ib.placeOrder(etf1,co_sl)\n"
   ]
  },
  {
   "cell_type": "code",
   "execution_count": null,
   "id": "2243934b",
   "metadata": {},
   "outputs": [],
   "source": [
    "# current positions\n",
    "ib.positions()"
   ]
  },
  {
   "cell_type": "code",
   "execution_count": null,
   "id": "b3c48360",
   "metadata": {},
   "outputs": [],
   "source": [
    "# trade summary \n",
    "ib.trades()"
   ]
  }
 ],
 "metadata": {
  "kernelspec": {
   "display_name": "Python 3 (ipykernel)",
   "language": "python",
   "name": "python3"
  },
  "language_info": {
   "codemirror_mode": {
    "name": "ipython",
    "version": 3
   },
   "file_extension": ".py",
   "mimetype": "text/x-python",
   "name": "python",
   "nbconvert_exporter": "python",
   "pygments_lexer": "ipython3",
   "version": "3.11.5"
  }
 },
 "nbformat": 4,
 "nbformat_minor": 5
}
