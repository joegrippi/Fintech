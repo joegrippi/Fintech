{
 "cells": [
  {
   "cell_type": "code",
   "execution_count": null,
   "id": "f3cf0c8c",
   "metadata": {},
   "outputs": [],
   "source": [
    "### import libraries\n",
    "import math\n",
    "import pandas as pd\n",
    "import numpy as np\n",
    "import yfinance as yf\n",
    "import requests as r\n",
    "import concurrent.futures\n",
    "import regex"
   ]
  },
  {
   "cell_type": "code",
   "execution_count": null,
   "id": "43b9241a",
   "metadata": {},
   "outputs": [],
   "source": [
    "\"\"\" yfinance is a powerful tool that was created by a person a lot smarter than myself. \n",
    "Leveraging the code that was developed, and the Russells 2K Ticker list, \n",
    "I decided to scan the index for stocks with low PE's and High Divedend Yields.\n",
    "You will have to gather the list on your own due to commercials that might need to be paid to get this list.\n",
    "You can do this with other index's by 'scraping a page' for other indexes.\n",
    "I will be doing this in the near future.\n",
    "\"\"\"\n",
    "\n",
    "# the below code will provide all of the available dimensions that can be pulled through yfinance.\n",
    "# yf.Ticker('AAPL').info"
   ]
  },
  {
   "cell_type": "code",
   "execution_count": null,
   "id": "1985caf8",
   "metadata": {},
   "outputs": [],
   "source": [
    "data = pd.read_csv('data/RTWO_Ticker_List.txt', sep=\" \")\n",
    "symbols = data\n",
    "rty =[]\n",
    "for symbol in symbols:\n",
    "    stock = yf.Ticker(symbol)\n",
    "    try:\n",
    "        if stock.info['dividendYield']:\n",
    "            rty.append(symbol + ',' + \n",
    "                    str(stock.info['currentPrice']) +\n",
    "                    ',' + str(stock.info['dividendYield']) +\n",
    "                    ',' + str(stock.info['averageVolume']) +\n",
    "                    ',' + str(stock.info['sector']) +\n",
    "                    ',' + str(stock.info['forwardPE']) +\n",
    "                    ',' + str(stock.info['forwardEps']))\n",
    "    except KeyError:\n",
    "        pass"
   ]
  },
  {
   "cell_type": "code",
   "execution_count": null,
   "id": "5d876cee",
   "metadata": {},
   "outputs": [],
   "source": [
    "rtypd = pd.Series(rty)\n",
    "df = rtypd.str.split(',', expand=True)\n",
    "df = df.rename(columns={0:'Symbol',1:'Last',2:'Div_Yld',3:'Avg_Vol',4:'Sector',5:'ForwardPE',6:'ForwardEPS'})\n",
    "df=df.sort_values(by=['Div_Yld'], ascending=False)\n",
    "df[['Last','Div_Yld','Avg_Vol']] = df[['Last','Div_Yld','Avg_Vol']].astype(float)\n",
    "df2=df.drop(df[df['Div_Yld'] <= .075].index)\n",
    "df3=df2.drop(df2[df2['Avg_Vol'] < 999999].index)\n",
    "df4=df3.drop(df3[df3['Last'] < 5].index)\n",
    "df4.to_excel('data/rty_5_2024.xlsx')"
   ]
  },
  {
   "cell_type": "code",
   "execution_count": null,
   "id": "7385e2d0",
   "metadata": {},
   "outputs": [],
   "source": [
    "# writing raw data to file\n",
    "file1 = open('data/rty_5_24.csv', 'w')\n",
    "file1.writelines(rty)\n",
    "file1.close()"
   ]
  },
  {
   "cell_type": "code",
   "execution_count": null,
   "id": "52e4a491",
   "metadata": {},
   "outputs": [],
   "source": [
    "# get yield function\n",
    "def getyld(symbol):\n",
    "    yldpct = None\n",
    "    try:\n",
    "        stock = yf.Ticker(symbol)\n",
    "        yldpct = stock.info['dividendYield']\n",
    "    except Exception:\n",
    "        pass\n",
    "    return(yldpct)"
   ]
  }
 ],
 "metadata": {
  "kernelspec": {
   "display_name": "Python 3 (ipykernel)",
   "language": "python",
   "name": "python3"
  },
  "language_info": {
   "codemirror_mode": {
    "name": "ipython",
    "version": 3
   },
   "file_extension": ".py",
   "mimetype": "text/x-python",
   "name": "python",
   "nbconvert_exporter": "python",
   "pygments_lexer": "ipython3",
   "version": "3.11.5"
  }
 },
 "nbformat": 4,
 "nbformat_minor": 5
}
