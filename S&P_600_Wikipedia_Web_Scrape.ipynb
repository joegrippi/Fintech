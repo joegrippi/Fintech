{
 "cells": [
  {
   "cell_type": "markdown",
   "id": "150b9108",
   "metadata": {},
   "source": [
    "# S&P 600 Wikipedia Scrape"
   ]
  },
  {
   "cell_type": "code",
   "execution_count": null,
   "id": "8c9aa5ee",
   "metadata": {},
   "outputs": [],
   "source": [
    "''' This workbok scrapes the S&P 600 and then uses pandas to turn into a dataframe and look at different fudamental and\n",
    "price features of a given security:\n",
    "S&P 600 landing page: \n",
    "https://en.wikipedia.org/wiki/List_of_S%26P_600_companies'''\n",
    "# import libraries\n",
    "import pandas as pd # excel for python\n",
    "import requests as r # ability to bring in data\n",
    "import os # brings in os functions\n",
    "import regex\n",
    "from bs4 import BeautifulSoup # ability to parse a web page for the data that we need\n",
    "import yfinance as yf #used to request a securities feature data"
   ]
  },
  {
   "cell_type": "code",
   "execution_count": null,
   "id": "ac2f94e9",
   "metadata": {},
   "outputs": [],
   "source": [
    "#get data from page\n",
    "headers = {'User-Agent' : 'Mozilla/5.0 (X11; Linux x86_64)AppleWebKit/537.36 \\\n",
    "           (KHTML, like Gecko) \\\n",
    "           Chrome/47.0.2526.106 Safari537.36'}\n",
    "url='https://en.wikipedia.org/wiki/List_of_S%26P_600_companies'\n",
    "sp600=r.get(url,headers=headers)\n",
    "sp600.status_code # provides status code"
   ]
  },
  {
   "cell_type": "code",
   "execution_count": null,
   "id": "ed5b89a6",
   "metadata": {},
   "outputs": [],
   "source": [
    "sp600.request.headers # check headers"
   ]
  },
  {
   "cell_type": "code",
   "execution_count": null,
   "id": "bc77a5c9",
   "metadata": {},
   "outputs": [],
   "source": [
    "# lets make some soup\n",
    "soup = BeautifulSoup(sp600.content, 'html.parser')\n",
    "tables = soup.find_all('table', attrs={'class': 'wikitable'})\n",
    "sp600cl = tables[0]\n",
    "sp600changes = tables[1]\n",
    "# sp600cl"
   ]
  },
  {
   "cell_type": "code",
   "execution_count": null,
   "id": "b343c982",
   "metadata": {},
   "outputs": [],
   "source": [
    "def parse_table(html_table) -> pd.DataFrame:\n",
    "    columns =[]\n",
    "    rows = []\n",
    "    for column in html_table.find_all('th'): # 'th' table headers\n",
    "        columns.append(column.text)\n",
    "    for row in html_table.find_all('tr'): # 'tr' table rows\n",
    "        row_to_add =[]\n",
    "        for cell in row.find_all('td'): # 'td' table data\n",
    "            row_to_add.append(cell.text)\n",
    "        rows.append(row_to_add)\n",
    "    df = pd.DataFrame(rows,columns=columns)\n",
    "    return df"
   ]
  },
  {
   "cell_type": "code",
   "execution_count": null,
   "id": "4e313e5b",
   "metadata": {},
   "outputs": [],
   "source": [
    "# clean data, this will be turned into a function at a later time.\n",
    "sp600_ticker_list=parse_table(sp600cl)\n",
    "sp600_ticker_list.drop([0],inplace=True)\n",
    "sp600_ticker_list=sp600_ticker_list[['Symbol\\n']]\n",
    "sp600_ticker_list=sp600_ticker_list.replace(r'\\n','', regex=True)\n",
    "sp600_ticker_list=sp600_ticker_list.rename(columns={'Symbol\\n': 'ticker'})\n",
    "sp600_ticker_list=sp600_ticker_list.reset_index(drop=True)"
   ]
  },
  {
   "cell_type": "code",
   "execution_count": null,
   "id": "a6b2e2a2",
   "metadata": {},
   "outputs": [],
   "source": [
    "'''Do a yfinance.Ticker(ticker).info call of a security to see all available \n",
    "features available for a given security.'''\n",
    "# ticker ='AAP'\n",
    "# yfinance.Ticker(ticker).info"
   ]
  },
  {
   "cell_type": "code",
   "execution_count": null,
   "id": "d2917156",
   "metadata": {},
   "outputs": [],
   "source": [
    "# add a feature to your ticker list daataframe for example: 'currentPrice'\n",
    "tickers=sp600_ticker_list['ticker']\n",
    "# display(tickers)\n",
    "spx600 =[]\n",
    "for ticker in tickers:\n",
    "    stock = yf.Ticker(ticker)\n",
    "    try:\n",
    "        # add as many features as you wish\n",
    "        if stock.info['currentPrice']:\n",
    "            spx600.append(ticker + ',' +\n",
    "                          str(stock.info['currentPrice']))\n",
    "    except KeyError:\n",
    "        pass"
   ]
  },
  {
   "cell_type": "code",
   "execution_count": null,
   "id": "cdcea972",
   "metadata": {},
   "outputs": [],
   "source": [
    "spx600pd = pd.Series(spx600)\n",
    "spx600pd\n",
    "spx600 = spx600pd.str.split(',', expand=True)\n",
    "spx600 = spx600.rename(columns={0:'ticker', 1: 'Last'})\n",
    "### save to an excel file\n",
    "spx600.to_excel('data/spx600.xlsx')\n",
    "# analyze your data how you see fit."
   ]
  },
  {
   "cell_type": "code",
   "execution_count": null,
   "id": "41eedd80",
   "metadata": {},
   "outputs": [],
   "source": []
  },
  {
   "cell_type": "code",
   "execution_count": null,
   "id": "902700ab",
   "metadata": {},
   "outputs": [],
   "source": []
  }
 ],
 "metadata": {
  "kernelspec": {
   "display_name": "Python 3 (ipykernel)",
   "language": "python",
   "name": "python3"
  },
  "language_info": {
   "codemirror_mode": {
    "name": "ipython",
    "version": 3
   },
   "file_extension": ".py",
   "mimetype": "text/x-python",
   "name": "python",
   "nbconvert_exporter": "python",
   "pygments_lexer": "ipython3",
   "version": "3.11.5"
  }
 },
 "nbformat": 4,
 "nbformat_minor": 5
}
